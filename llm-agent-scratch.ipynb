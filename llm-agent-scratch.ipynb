{
 "cells": [
  {
   "cell_type": "code",
   "execution_count": 65,
   "id": "6e36bdf9-973d-4d4d-8797-157ab2d49a82",
   "metadata": {},
   "outputs": [],
   "source": [
    "# based on https://til.simonwillison.net/llms/python-react-pattern\n",
    "# and https://learn.deeplearning.ai/courses/ai-agents-in-langgraph/lesson/2/build-an-agent-from-scratch"
   ]
  },
  {
   "cell_type": "code",
   "execution_count": 1,
   "id": "512c3089-856a-42f5-959d-f1af26ece7f9",
   "metadata": {},
   "outputs": [],
   "source": [
    "import openai"
   ]
  },
  {
   "cell_type": "code",
   "execution_count": 2,
   "id": "e3bb7180-7696-4f51-b62b-844a58dae1ad",
   "metadata": {},
   "outputs": [],
   "source": [
    "from openai import OpenAI"
   ]
  },
  {
   "cell_type": "code",
   "execution_count": 3,
   "id": "e4aaede7-8e6d-4b44-861d-b3154712960d",
   "metadata": {},
   "outputs": [],
   "source": [
    "import os\n",
    "\n",
    "openai.api_key = os.getenv(\"OPENAI_API_KEY\")"
   ]
  },
  {
   "cell_type": "code",
   "execution_count": 5,
   "id": "bb776cee-813c-40c6-b204-8ce1183a3329",
   "metadata": {},
   "outputs": [],
   "source": [
    "client = openai\n",
    "\n",
    "chat_completion = client.chat.completions.create(\n",
    "    model=\"gpt-4o\",\n",
    "    messages=[{\"role\": \"user\", \"content\": \"What is the capital of Maharashtra\"}]\n",
    ")\n"
   ]
  },
  {
   "cell_type": "code",
   "execution_count": 6,
   "id": "596819d2-87a9-4b46-b208-1e3039e7ac51",
   "metadata": {},
   "outputs": [
    {
     "data": {
      "text/plain": [
       "'The capital of Maharashtra, a state in India, is Mumbai. Mumbai, formerly known as Bombay, is the largest city in India and serves as the economic and entertainment hub of the country.'"
      ]
     },
     "execution_count": 6,
     "metadata": {},
     "output_type": "execute_result"
    }
   ],
   "source": [
    "chat_completion.choices[0].message.content"
   ]
  },
  {
   "cell_type": "code",
   "execution_count": 7,
   "id": "90e80ec6-ba1b-4d2d-bac6-992561e73141",
   "metadata": {},
   "outputs": [],
   "source": [
    "class Agent:\n",
    "    def __init__(self, system=\"\"):\n",
    "        self.system = system\n",
    "        self.messages = []\n",
    "        if self.system:\n",
    "            self.messages.append({\"role\": \"system\", \"content\": system})\n",
    "\n",
    "    def __call__(self, message):\n",
    "        self.messages.append({\"role\": \"user\", \"content\": message})\n",
    "        result = self.execute()\n",
    "        self.messages.append({\"role\": \"assistant\", \"content\": result})\n",
    "        return result\n",
    "\n",
    "    def execute(self):\n",
    "        completion = client.chat.completions.create(\n",
    "            model=\"gpt-4o\",\n",
    "            temperature=0,\n",
    "            messages=self.messages\n",
    "        )\n",
    "        return completion.choices[0].message.content\n",
    "        "
   ]
  },
  {
   "cell_type": "markdown",
   "id": "1854252d-9c69-4ae6-94fb-309abf8837b0",
   "metadata": {},
   "source": [
    "# Calculate dog weight"
   ]
  },
  {
   "cell_type": "code",
   "execution_count": 43,
   "id": "383fd188-7f0a-419f-aef9-db4a12b24e56",
   "metadata": {},
   "outputs": [],
   "source": [
    "prompt = \"\"\"\n",
    "You run in a loop of Thought, Action, PAUSE, Observation.\n",
    "At the end of the loop you output an Answer\n",
    "Use Thought to describe your thoughts about the question you have been asked.\n",
    "Use Action to run one of the actions available to you - then return PAUSE.\n",
    "Observation will be the result of running those actions.\n",
    "\n",
    "Your available actions are:\n",
    "\n",
    "calculate:\n",
    "e.g. calculate: 4 * 7 / 3\n",
    "Runs a calculation and returns the number - uses Python so be sure to use floating point syntax if necessary\n",
    "\n",
    "average_dog_weight:\n",
    "e.g. average_dog_weight: Collie\n",
    "returns average weight of a dog when given the breed\n",
    "\n",
    "Example session:\n",
    "\n",
    "Question: How much does a Bulldog weigh?\n",
    "Thought: I should look the dogs weight using average_dog_weight\n",
    "Action: average_dog_weight: Bulldog\n",
    "PAUSE\n",
    "\n",
    "You will be called again with this:\n",
    "\n",
    "Observation: A Bulldog weights 51 lbs\n",
    "\n",
    "You then output:\n",
    "\n",
    "Answer: A bulldog weights 51 lbs\n",
    "\"\"\".strip()"
   ]
  },
  {
   "cell_type": "code",
   "execution_count": 44,
   "id": "e4dfa5b5-d606-433b-8dd3-353f950c3429",
   "metadata": {},
   "outputs": [],
   "source": [
    "def calculate(what):\n",
    "    return eval(what)\n",
    "\n",
    "def average_dog_weight(name):\n",
    "    if name in \"Scottish Terrier\": \n",
    "        return(\"Scottish Terriers average 20 lbs\")\n",
    "    elif name in \"Border Collie\":\n",
    "        return(\"a Border Collies average weight is 37 lbs\")\n",
    "    elif name in \"Toy Poodle\":\n",
    "        return(\"a toy poodles average weight is 7 lbs\")\n",
    "    else:\n",
    "        return(\"An average dog weights 50 lbs\")\n",
    "\n",
    "known_actions = {\n",
    "    \"calculate\": calculate,\n",
    "    \"average_dog_weight\": average_dog_weight\n",
    "}"
   ]
  },
  {
   "cell_type": "code",
   "execution_count": 16,
   "id": "b11db341-4cb3-4e5d-9490-f7f8f601b6ea",
   "metadata": {},
   "outputs": [],
   "source": [
    "abot = Agent(prompt)"
   ]
  },
  {
   "cell_type": "code",
   "execution_count": 17,
   "id": "9baca751-7273-46e1-80e4-0270daa8fb4d",
   "metadata": {},
   "outputs": [
    {
     "name": "stdout",
     "output_type": "stream",
     "text": [
      "Thought: I should look up the average weight of a Toy Poodle using the function average_dog_weight.\n",
      "Action: average_dog_weight: Toy Poodle\n",
      "PAUSE\n"
     ]
    }
   ],
   "source": [
    "result = abot(\"How much does a toy poodle weigh?\")\n",
    "print(result)"
   ]
  },
  {
   "cell_type": "code",
   "execution_count": 18,
   "id": "28c9d064-5faa-4ca2-8266-2fe97a899667",
   "metadata": {},
   "outputs": [
    {
     "data": {
      "text/plain": [
       "'a toy poodles average weight is 7 lbs'"
      ]
     },
     "execution_count": 18,
     "metadata": {},
     "output_type": "execute_result"
    }
   ],
   "source": [
    "result = average_dog_weight(\"Toy Poodle\")\n",
    "result"
   ]
  },
  {
   "cell_type": "code",
   "execution_count": 19,
   "id": "4ce30e8e-e1e9-4d35-bf6f-a76daa9e1e22",
   "metadata": {},
   "outputs": [
    {
     "data": {
      "text/plain": [
       "'Answer: A Toy Poodle weighs 7 lbs'"
      ]
     },
     "execution_count": 19,
     "metadata": {},
     "output_type": "execute_result"
    }
   ],
   "source": [
    "next_prompt = \"Observation: {}\".format(result)\n",
    "abot(next_prompt)"
   ]
  },
  {
   "cell_type": "code",
   "execution_count": 20,
   "id": "d8c94f0d-9960-4565-b171-efab64bdae2a",
   "metadata": {},
   "outputs": [
    {
     "data": {
      "text/plain": [
       "[{'role': 'system',\n",
       "  'content': 'You run in a loop of Thought, Action, PAUSE, Observation.\\nAt the end of the loop you output an Answer\\nUse Thought to describe your thoughts about the question you have been asked.\\nUse Action to run one of the actions available to you - then return PAUSE.\\nObservation will be the result of running those actions.\\n\\nYour available actions are:\\n\\ncalculate:\\ne.g. calculate: 4 * 7 / 3\\nRuns a calculation and returns the number - uses Python so be sure to use floating point syntax if necessary\\n\\naverage_dog_weight:\\ne.g. average_dog_weight: Collie\\nreturns average weight of a dog when given the breed\\n\\nExample session:\\n\\nQuestion: How much does a Bulldog weigh?\\nThought: I should look the dogs weight using average_dog_weight\\nAction: average_dog_weight: Bulldog\\nPAUSE\\n\\nYou will be called again with this:\\n\\nObservation: A Bulldog weights 51 lbs\\n\\nYou then output:\\n\\nAnswer: A bulldog weights 51 lbs'},\n",
       " {'role': 'user', 'content': 'How much does a toy poodle weigh?'},\n",
       " {'role': 'assistant',\n",
       "  'content': 'Thought: I should look up the average weight of a Toy Poodle using the function average_dog_weight.\\nAction: average_dog_weight: Toy Poodle\\nPAUSE'},\n",
       " {'role': 'user',\n",
       "  'content': 'Observation: a toy poodles average weight is 7 lbs'},\n",
       " {'role': 'assistant', 'content': 'Answer: A Toy Poodle weighs 7 lbs'}]"
      ]
     },
     "execution_count": 20,
     "metadata": {},
     "output_type": "execute_result"
    }
   ],
   "source": [
    "abot.messages"
   ]
  },
  {
   "cell_type": "markdown",
   "id": "313a9af1-f7a5-453c-bfc6-532026f4ece3",
   "metadata": {},
   "source": [
    "## More complex prompt"
   ]
  },
  {
   "cell_type": "code",
   "execution_count": 22,
   "id": "c817d1e4-5ab1-45b3-b332-a48e5458d0a9",
   "metadata": {},
   "outputs": [],
   "source": [
    "abot = Agent(prompt)"
   ]
  },
  {
   "cell_type": "code",
   "execution_count": 23,
   "id": "f129615c-6d87-409d-b767-dee74fbb8151",
   "metadata": {},
   "outputs": [
    {
     "data": {
      "text/plain": [
       "'Thought: I can find the average weight of a Border Collie and a Scottish Terrier using the average_dog_weight action, then calculate their combined weight.\\n\\nAction: average_dog_weight: Border Collie\\nPAUSE'"
      ]
     },
     "execution_count": 23,
     "metadata": {},
     "output_type": "execute_result"
    }
   ],
   "source": [
    "question = \"\"\"I have 2 dogs, a border collie and a scottish terrier. \\\n",
    "What is their combined weight\"\"\"\n",
    "abot(question)"
   ]
  },
  {
   "cell_type": "code",
   "execution_count": 24,
   "id": "54bd3617-a715-4710-914e-b3558d14407b",
   "metadata": {},
   "outputs": [],
   "source": [
    "next_prompt = \"Observation: {}\".format(average_dog_weight(\"Border Collie\"))"
   ]
  },
  {
   "cell_type": "code",
   "execution_count": 25,
   "id": "5c0b1af1-7c00-41ce-9c94-3f2837d8f6e3",
   "metadata": {},
   "outputs": [
    {
     "name": "stdout",
     "output_type": "stream",
     "text": [
      "Observation: a Border Collies average weight is 37 lbs\n"
     ]
    }
   ],
   "source": [
    "print(next_prompt)"
   ]
  },
  {
   "cell_type": "code",
   "execution_count": 26,
   "id": "f6bf14f0-2cef-4840-a7b6-04c9eb4df087",
   "metadata": {},
   "outputs": [
    {
     "data": {
      "text/plain": [
       "'Action: average_dog_weight: Scottish Terrier\\nPAUSE'"
      ]
     },
     "execution_count": 26,
     "metadata": {},
     "output_type": "execute_result"
    }
   ],
   "source": [
    "abot(next_prompt)"
   ]
  },
  {
   "cell_type": "code",
   "execution_count": 27,
   "id": "c2a23825-2272-4969-8219-b2fd7ae9a4ae",
   "metadata": {},
   "outputs": [
    {
     "name": "stdout",
     "output_type": "stream",
     "text": [
      "Observation: Scottish Terriers average 20 lbs\n"
     ]
    }
   ],
   "source": [
    "next_prompt = \"Observation: {}\".format(average_dog_weight(\"Scottish Terrier\"))\n",
    "print(next_prompt)"
   ]
  },
  {
   "cell_type": "code",
   "execution_count": 29,
   "id": "a4ffab55-4251-4d61-a58a-8f8b8151b412",
   "metadata": {},
   "outputs": [
    {
     "data": {
      "text/plain": [
       "'Action: calculate: 37 + 20\\nPAUSE'"
      ]
     },
     "execution_count": 29,
     "metadata": {},
     "output_type": "execute_result"
    }
   ],
   "source": [
    "abot(next_prompt)"
   ]
  },
  {
   "cell_type": "code",
   "execution_count": 31,
   "id": "1b99fc0a-67ce-498a-83ab-7b6b72c95a46",
   "metadata": {},
   "outputs": [
    {
     "name": "stdout",
     "output_type": "stream",
     "text": [
      "Observation: 57\n"
     ]
    }
   ],
   "source": [
    "next_prompt = \"Observation: {}\".format(eval(\"37 + 20\"))\n",
    "print(next_prompt)"
   ]
  },
  {
   "cell_type": "code",
   "execution_count": 32,
   "id": "13d4d3a0-cc33-4694-b30e-8787af561295",
   "metadata": {},
   "outputs": [
    {
     "data": {
      "text/plain": [
       "'Answer: The combined weight of a Border Collie and a Scottish Terrier is 57 lbs'"
      ]
     },
     "execution_count": 32,
     "metadata": {},
     "output_type": "execute_result"
    }
   ],
   "source": [
    "abot(next_prompt)"
   ]
  },
  {
   "cell_type": "markdown",
   "id": "ee3cfa2b-199c-42e6-8bbd-248eb60d9e49",
   "metadata": {},
   "source": [
    "## Add a loop - automate Thought --> Action --> PAUSE --> Observation"
   ]
  },
  {
   "cell_type": "code",
   "execution_count": 9,
   "id": "0c8827fc-49d9-4648-8e53-ba36ba5d6735",
   "metadata": {},
   "outputs": [],
   "source": [
    "import re"
   ]
  },
  {
   "cell_type": "code",
   "execution_count": 10,
   "id": "0823869d-63fc-4515-bbb6-3580a1e19e8e",
   "metadata": {},
   "outputs": [],
   "source": [
    "action_re = re.compile('^Action: (\\w+): (.*)$')"
   ]
  },
  {
   "cell_type": "code",
   "execution_count": 45,
   "id": "60aa3166-232f-4331-953c-44ed05ae698a",
   "metadata": {},
   "outputs": [],
   "source": [
    "def query(question, max_turns=5):\n",
    "    i = 0\n",
    "    bot = Agent(prompt)\n",
    "    next_prompt = question\n",
    "    while i < max_turns:\n",
    "        i += 1\n",
    "        result = bot(next_prompt)\n",
    "        print(result)\n",
    "        actions = [\n",
    "            action_re.match(a)\n",
    "            for a in result.split('\\n')\n",
    "            if action_re.match(a)\n",
    "        ]\n",
    "        if actions:\n",
    "            action, action_input = actions[0].groups()\n",
    "            if action not in known_actions:\n",
    "                raise Exception(\"Unknown action: {}: {}\".format(action, action_input))\n",
    "            print(\" -- running {} {}\".format(action, action_input))\n",
    "            observation = known_actions[action](action_input)\n",
    "            print(\"Observation:\", observation)\n",
    "            next_prompt = \"Observation: {}\".format(observation)\n",
    "        else:\n",
    "            return"
   ]
  },
  {
   "cell_type": "code",
   "execution_count": 46,
   "id": "ab6d4984-00b2-4a10-a60a-778f0f7c8d8d",
   "metadata": {},
   "outputs": [
    {
     "name": "stdout",
     "output_type": "stream",
     "text": [
      "Thought: I need to find the average weight of both a Border Collie and a Scottish Terrier, then sum these weights to get the combined weight of the two dogs.\n",
      "Action: average_dog_weight: Border Collie\n",
      "PAUSE\n",
      " -- running average_dog_weight Border Collie\n",
      "Observation: a Border Collies average weight is 37 lbs\n",
      "Thought: Now I need to find the average weight of a Scottish Terrier.\n",
      "Action: average_dog_weight: Scottish Terrier\n",
      "PAUSE\n",
      " -- running average_dog_weight Scottish Terrier\n",
      "Observation: Scottish Terriers average 20 lbs\n",
      "Thought: I now have the average weights of both dogs. I need to sum these weights to get the combined weight.\n",
      "Action: calculate: 37 + 20\n",
      "PAUSE\n",
      " -- running calculate 37 + 20\n",
      "Observation: 57\n",
      "Answer: The combined weight of a Border Collie and a Scottish Terrier is 57 lbs.\n"
     ]
    }
   ],
   "source": [
    "question = \"\"\"I have 2 dogs, a border collie and a scottish terrier. \\\n",
    "What is their combined weight\"\"\"\n",
    "query(question)"
   ]
  },
  {
   "cell_type": "markdown",
   "id": "5c7b9175-119a-40cb-8dfe-a9a5841f4f59",
   "metadata": {},
   "source": [
    "# Prompt 2"
   ]
  },
  {
   "cell_type": "code",
   "execution_count": 11,
   "id": "f5c1f86f-d54a-4e34-a9e5-e6504003498f",
   "metadata": {},
   "outputs": [],
   "source": [
    "prompt2 = \"\"\"\n",
    "You run in a loop of Thought, Action, PAUSE, Observation.\n",
    "At the end of the loop you output an Answer\n",
    "Use Thought to describe your thoughts about the question you have been asked.\n",
    "Use Action to run one of the actions available to you - then return PAUSE.\n",
    "Observation will be the result of running those actions.\n",
    "\n",
    "Your available actions are:\n",
    "\n",
    "cartoon:\n",
    "e.g. cartoon: Mickey\n",
    "returns points for given cartoon eg. Mickey scores 6 points, Suzy scores 2 points\n",
    "\n",
    "color:\n",
    "e.g. color: Red\n",
    "returns points for given color eg. Red is 4 points\n",
    "\n",
    "vehicle:\n",
    "e.g. vehicle: Car\n",
    "returns points for given vehicle eg. Car is 3 points\n",
    "\n",
    "Example session:\n",
    "\n",
    "Question: How much does a red Mickey score?\n",
    "Thought: I can sum up the scores of the color red and cartoon Mickey. I can get Mickey's score \n",
    "using cartoon action Red's score using color action.\n",
    "Action: cartoon: Mickey\n",
    "PAUSE\n",
    "\n",
    "You will be called again with this:\n",
    "\n",
    "Observation: Mickey scores 6\n",
    "\n",
    "You then continue the loop:\n",
    "\n",
    "Thought: I now need the score for Red.\n",
    "Action: color: Red\n",
    "PAUSE\n",
    "\n",
    "You will be called again with this:\n",
    "\n",
    "Observation: Red scores 4\n",
    "\n",
    "You then output\n",
    "\n",
    "Answer: A red Mickey scores 10 points.\n",
    "\"\"\".strip()"
   ]
  },
  {
   "cell_type": "code",
   "execution_count": 12,
   "id": "f587c986-ac28-4e1c-8013-c8645cf8f33a",
   "metadata": {},
   "outputs": [],
   "source": [
    "def cartoon(name):\n",
    "    if name in \"Mickey\": \n",
    "        return(\"Mickey scores 6\")\n",
    "    elif name in \"Peppa\":\n",
    "        return(\"Peppa scores 5\")\n",
    "    elif name in \"Suzy\":\n",
    "        return(\"Suzy scores 4\")\n",
    "    else:\n",
    "        return(\"Cartoon not found, but any cartoon scores at least 2\")\n",
    "\n",
    "def color(name):\n",
    "    if name in \"Orange\": \n",
    "        return(\"Orange scores 6\")\n",
    "    elif name in \"Red\":\n",
    "        return(\"Red scores 5\")\n",
    "    elif name in \"Pink\":\n",
    "        return(\"Pink scores 5\")\n",
    "    else:\n",
    "        return(\"Color not found, but any color scores at least 2\")\n",
    "\n",
    "def vehicle(name):\n",
    "    if name in \"Bike\": \n",
    "        return(\"Bike scores 4\")\n",
    "    elif name in \"Car\":\n",
    "        return(\"Car scores 5\")\n",
    "    elif name in \"Truck\":\n",
    "        return(\"Truck scores 3\")\n",
    "    else:\n",
    "        return(\"Vehicle not found, but any vehicle scores at least 2\")"
   ]
  },
  {
   "cell_type": "code",
   "execution_count": 13,
   "id": "fadb40e2-405b-47a6-9306-1efa95ccc41c",
   "metadata": {},
   "outputs": [],
   "source": [
    "known_actions = {\n",
    "    \"cartoon\": cartoon,\n",
    "    \"color\": color,\n",
    "    \"vehicle\": vehicle\n",
    "}"
   ]
  },
  {
   "cell_type": "code",
   "execution_count": 14,
   "id": "f90fcfbb-93ee-42f9-8710-8386dc021b9a",
   "metadata": {},
   "outputs": [],
   "source": [
    "action_re = re.compile('^Action: (\\w+): (.*)$')"
   ]
  },
  {
   "cell_type": "code",
   "execution_count": 15,
   "id": "1ddb3928-0664-4594-b716-c4ad23631fc6",
   "metadata": {},
   "outputs": [],
   "source": [
    "def query2(question, max_turns=10):\n",
    "    i = 0\n",
    "    bot = Agent(prompt2)\n",
    "    next_prompt = question\n",
    "    while i < max_turns:\n",
    "        i += 1\n",
    "        result = bot(next_prompt)\n",
    "        print(result)\n",
    "        actions = [\n",
    "            action_re.match(a)\n",
    "            for a in result.split('\\n')\n",
    "            if action_re.match(a)\n",
    "        ]\n",
    "        if actions:\n",
    "            action, action_input = actions[0].groups()\n",
    "            if action not in known_actions:\n",
    "                raise Exception(\"Unknown action: {}: {}\".format(action, action_input))\n",
    "            print(\" -- running {} {}\".format(action, action_input))\n",
    "            observation = known_actions[action](action_input)\n",
    "            print(\"Observation:\", observation)\n",
    "            next_prompt = \"Observation: {}\".format(observation)\n",
    "        else:\n",
    "            return"
   ]
  },
  {
   "cell_type": "code",
   "execution_count": 16,
   "id": "5024bf10-8218-472f-b88c-b46658044437",
   "metadata": {},
   "outputs": [
    {
     "name": "stdout",
     "output_type": "stream",
     "text": [
      "Thought: To determine which toy your son will like more, I need to sum up the scores for each toy. This involves getting the scores for Peppa, the color pink, Mickey, the color orange, and the vehicle bike. I'll start by getting the score for Peppa.\n",
      "\n",
      "Action: cartoon: Peppa\n",
      "PAUSE\n",
      " -- running cartoon Peppa\n",
      "Observation: Peppa scores 5\n",
      "Thought: I now need to get the score for the color pink to complete the score for Peppa wearing a pink dress.\n",
      "\n",
      "Action: color: Pink\n",
      "PAUSE\n",
      " -- running color Pink\n",
      "Observation: Pink scores 5\n",
      "Thought: I have the scores for Peppa (5) and the color pink (5). Now, I need to get the scores for Mickey, the color orange, and the vehicle bike. I'll start with Mickey.\n",
      "\n",
      "Action: cartoon: Mickey\n",
      "PAUSE\n",
      " -- running cartoon Mickey\n",
      "Observation: Mickey scores 6\n",
      "Thought: I now need to get the score for the color orange to continue calculating the score for Mickey wearing an orange jacket riding a bike.\n",
      "\n",
      "Action: color: Orange\n",
      "PAUSE\n",
      " -- running color Orange\n",
      "Observation: Orange scores 6\n",
      "Thought: I now need to get the score for the vehicle bike to complete the score for Mickey wearing an orange jacket riding a bike.\n",
      "\n",
      "Action: vehicle: Bike\n",
      "PAUSE\n",
      " -- running vehicle Bike\n",
      "Observation: Bike scores 4\n",
      "Thought: I now have all the necessary scores. Peppa wearing a pink dress scores 5 (Peppa) + 5 (pink) = 10 points. Mickey wearing an orange jacket riding a bike scores 6 (Mickey) + 6 (orange) + 4 (bike) = 16 points. \n",
      "\n",
      "Answer: Your son will likely like the toy of Mickey wearing an orange jacket riding a bike more, as it scores 16 points compared to Peppa wearing a pink dress, which scores 10 points.\n"
     ]
    }
   ],
   "source": [
    "question2 = \"\"\"My son has 2 toys, Peppa wearing a pink dress, and Mickey wearing an orange jacket \\\n",
    "riding a bike. Which toy will my son like?\"\"\"\n",
    "query2(question2)"
   ]
  },
  {
   "cell_type": "code",
   "execution_count": 64,
   "id": "4ff98aa6-8cee-48b4-8707-0b7232749a72",
   "metadata": {},
   "outputs": [
    {
     "name": "stdout",
     "output_type": "stream",
     "text": [
      "Thought: I need to calculate the total points for each toy to determine which one your son might like.\n",
      "\n",
      "Action: cartoon: Peppa\n",
      "PAUSE\n",
      " -- running cartoon Peppa\n",
      "Observation: Peppa scores 5\n",
      "Thought: Now I need to find out the score for the color pink.\n",
      "\n",
      "Action: color: Pink\n",
      "PAUSE\n",
      " -- running color Pink\n",
      "Observation: Pink scores 5\n",
      "Answer: Your son might like the toy of Peppa wearing a pink dress, as it scores a total of 10 points.\n"
     ]
    }
   ],
   "source": [
    "# using gpt-3.5\n",
    "question2 = \"\"\"My son has 2 toys, Peppa wearing a pink dress, and Mickey wearing an orange jacket \\\n",
    "riding a bike. Which toy will my son like?\"\"\"\n",
    "query2(question2)"
   ]
  },
  {
   "cell_type": "code",
   "execution_count": null,
   "id": "3bcf7ebe-56e4-4f36-b9ef-2e106baf2d7f",
   "metadata": {},
   "outputs": [],
   "source": []
  }
 ],
 "metadata": {
  "kernelspec": {
   "display_name": "Python 3 (ipykernel)",
   "language": "python",
   "name": "python3"
  },
  "language_info": {
   "codemirror_mode": {
    "name": "ipython",
    "version": 3
   },
   "file_extension": ".py",
   "mimetype": "text/x-python",
   "name": "python",
   "nbconvert_exporter": "python",
   "pygments_lexer": "ipython3",
   "version": "3.11.6"
  }
 },
 "nbformat": 4,
 "nbformat_minor": 5
}
