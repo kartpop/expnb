{
 "cells": [
  {
   "cell_type": "code",
   "execution_count": 29,
   "id": "1ba2c404-05f9-419e-aea8-f9aa6228c763",
   "metadata": {},
   "outputs": [],
   "source": [
    "from openai import OpenAI\n",
    "from tavily import TavilyClient\n",
    "\n",
    "import os\n",
    "import json\n",
    "import re"
   ]
  },
  {
   "cell_type": "code",
   "execution_count": 6,
   "id": "20a6398c-5dac-48d6-aac4-b4a5692bf21e",
   "metadata": {},
   "outputs": [],
   "source": [
    "openai.api_key = os.getenv(\"OPENAI_API_KEY\")\n",
    "tavily_api_key = os.getenv(\"TAVILY_API_KEY\")"
   ]
  },
  {
   "cell_type": "code",
   "execution_count": 10,
   "id": "6cd23798-c7fc-483c-aab9-9512dff9238e",
   "metadata": {},
   "outputs": [],
   "source": [
    "client = openai\n",
    "tavily = TavilyClient(api_key=tavily_api_key)"
   ]
  },
  {
   "cell_type": "code",
   "execution_count": 17,
   "id": "1d2148c8-43c0-4eab-8a24-f6bf9b3f9bed",
   "metadata": {},
   "outputs": [],
   "source": [
    "\n",
    "# For basic search:\n",
    "response = tavily.search(query=\"Did India win day before's T20 against Afghanistan?\", max_results=1)\n",
    "# For advanced search:\n",
    "#response = tavily.search(query=\"Should I invest in Apple in 2024?\", search_depth=\"advanced\")\n",
    "# Get the search results as context to pass an LLM:\n",
    "context = [{\"url\": obj[\"url\"], \"content\": obj[\"content\"]} for obj in response[\"results\"]]"
   ]
  },
  {
   "cell_type": "code",
   "execution_count": 18,
   "id": "17b11f49-ec3c-4698-8327-28e13518942b",
   "metadata": {},
   "outputs": [
    {
     "data": {
      "text/plain": [
       "[{'url': 'https://www.bbc.co.uk/sport/cricket/articles/cv22y4p21gwo',\n",
       "  'content': 'Watch the best shots as Suryakumar Yadav hits a sublime 53 off 28 balls to lead India to a comprehensive 47-run victory over Afghanistan in the T20 World Cup Super 8s in Barbados.'}]"
      ]
     },
     "execution_count": 18,
     "metadata": {},
     "output_type": "execute_result"
    }
   ],
   "source": [
    "context"
   ]
  },
  {
   "cell_type": "code",
   "execution_count": 27,
   "id": "66563094-2113-4d6a-bcac-e1636f123caf",
   "metadata": {},
   "outputs": [
    {
     "data": {
      "text/plain": [
       "'{\"context\": [{\"url\": \"https://www.bbc.co.uk/sport/cricket/articles/cv22y4p21gwo\", \"content\": \"Watch the best shots as Suryakumar Yadav hits a sublime 53 off 28 balls to lead India to a comprehensive 47-run victory over Afghanistan in the T20 World Cup Super 8s in Barbados.\"}]}'"
      ]
     },
     "execution_count": 27,
     "metadata": {},
     "output_type": "execute_result"
    }
   ],
   "source": [
    "context_str = json.dumps({ \"context\": context })\n",
    "context_str"
   ]
  },
  {
   "cell_type": "markdown",
   "id": "743e6925-4dde-44d2-8baa-74edceb3f4a2",
   "metadata": {},
   "source": [
    "### Setup agent"
   ]
  },
  {
   "cell_type": "code",
   "execution_count": 37,
   "id": "1bfd25c3-4ef3-4e60-88b8-22d34cb874b0",
   "metadata": {},
   "outputs": [],
   "source": [
    "class Agent:\n",
    "    def __init__(self, system=\"\", model=\"gpt-4o\"):\n",
    "        self.system = system\n",
    "        self.model = model\n",
    "        self.messages = []\n",
    "        if self.system:\n",
    "            self.messages.append({\"role\": \"system\", \"content\": system})\n",
    "\n",
    "    def __call__(self, message):\n",
    "        self.messages.append({\"role\": \"user\", \"content\": message})\n",
    "        result = self.execute()\n",
    "        self.messages.append({\"role\": \"assistant\", \"content\": result})\n",
    "        return result\n",
    "\n",
    "    def execute(self):\n",
    "        completion = client.chat.completions.create(\n",
    "            model=self.model,\n",
    "            temperature=0,\n",
    "            messages=self.messages\n",
    "        )\n",
    "        return completion.choices[0].message.content"
   ]
  },
  {
   "cell_type": "code",
   "execution_count": 38,
   "id": "33bbd39a-1614-47a4-9891-ececc17bbef0",
   "metadata": {},
   "outputs": [],
   "source": [
    "prompt = \"\"\"\n",
    "You run in a loop of Thought, Action, PAUSE, Observation.\n",
    "At the end of the loop you output an Answer\n",
    "Use Thought to describe your thoughts about the question you have been asked.\n",
    "Use Action to run one of the actions available to you - then return PAUSE.\n",
    "Observation will be the result of running those actions.\n",
    "\n",
    "Your available actions are:\n",
    "\n",
    "calculate:\n",
    "e.g. calculate: 4 * 7 / 3\n",
    "Runs a calculation and returns the number - uses Python so be sure to use floating point syntax if necessary\n",
    "\n",
    "web_search:\n",
    "e.g. web_search: what was the score in yesterday's match\n",
    "returns web search result for the query \"what was the score in yesterday's match\"\n",
    "\n",
    "Example session:\n",
    "\n",
    "Question: Who won the T20 India match yesterday and by what difference?\n",
    "Thought: I should do a web search to find out who won the T20 match yesterday involving India.\n",
    "Action: web_search: what was the score in yesterday's T20 match involving India\n",
    "PAUSE\n",
    "\n",
    "You will be called again with this:\n",
    "\n",
    "Observation: { \"context\" : [{ 'url': 'www.example.com/cricketscore/match123', 'content': 'India 156/3 (20), Afghanistan 134 (20)' }] }\n",
    "\n",
    "You then continue the loop:\n",
    "\n",
    "Thought: I now need to calculate the difference in scores: 156 and 134\n",
    "Action: calculate: 156 - 134\n",
    "PAUSE\n",
    "\n",
    "You will be called again with this:\n",
    "\n",
    "Observation: 22\n",
    "\n",
    "You then output\n",
    "\n",
    "Answer: India won the match by 22 runs. [source: 'www.example.com/cricketscore/match123']\n",
    "\"\"\".strip()"
   ]
  },
  {
   "cell_type": "code",
   "execution_count": 39,
   "id": "c4ef06b7-30b7-4d46-acd7-b6dcc8d2e545",
   "metadata": {},
   "outputs": [],
   "source": [
    "def calculate(what):\n",
    "    return eval(what)\n",
    "\n",
    "def web_search(query):\n",
    "    response = tavily.search(query=query, max_results=3)\n",
    "    context = [{\"url\": obj[\"url\"], \"content\": obj[\"content\"]} for obj in response[\"results\"]]\n",
    "    return json.dumps({ \"context\": context })\n",
    "\n",
    "known_actions = {\n",
    "    \"calculate\": calculate,\n",
    "    \"web_search\": web_search\n",
    "}"
   ]
  },
  {
   "cell_type": "code",
   "execution_count": 40,
   "id": "6d7cb914-47a7-4e67-903f-dba405d5e0f8",
   "metadata": {},
   "outputs": [],
   "source": [
    "action_re = re.compile('^Action: (\\w+): (.*)$')\n",
    "\n",
    "def query(question, max_turns=5, model=\"gpt-4o\"):\n",
    "    i = 0\n",
    "    bot = Agent(prompt, model)\n",
    "    next_prompt = question\n",
    "    while i < max_turns:\n",
    "        i += 1\n",
    "        result = bot(next_prompt)\n",
    "        print(result)\n",
    "        actions = [\n",
    "            action_re.match(a)\n",
    "            for a in result.split('\\n')\n",
    "            if action_re.match(a)\n",
    "        ]\n",
    "        if actions:\n",
    "            action, action_input = actions[0].groups()\n",
    "            if action not in known_actions:\n",
    "                raise Exception(\"Unknown action: {}: {}\".format(action, action_input))\n",
    "            print(\" -- running {} {}\".format(action, action_input))\n",
    "            observation = known_actions[action](action_input)\n",
    "            print(\"Observation:\", observation)\n",
    "            next_prompt = \"Observation: {}\".format(observation)\n",
    "        else:\n",
    "            return"
   ]
  },
  {
   "cell_type": "code",
   "execution_count": 42,
   "id": "f0fe7dc2-87b7-4197-b85d-dc04676bb81e",
   "metadata": {},
   "outputs": [
    {
     "name": "stdout",
     "output_type": "stream",
     "text": [
      "Thought: I need to find out the result of the last T20 match involving India in the ongoing 2024 World Cup.\n",
      "Action: web_search: result of the last T20 match involving India in the ongoing 2024 World Cup\n",
      "PAUSE\n",
      " -- running web_search result of the last T20 match involving India in the ongoing 2024 World Cup\n",
      "Observation: {\"context\": [{\"url\": \"https://sports.ndtv.com/t20-world-cup-2024/ind-vs-pak-live-cricket-score-t20-world-cup-2024-match-19th-india-vs-pakistan-live-scorecard-5851956\", \"content\": \"India vs Pakistan Highlights, T20 World Cup 2024: Jasprit Bumrah bowled a terrific spell as India edged past Pakistan by 6 runs at Nassau County International Cricket Stadium in New York. Chasing ...\"}, {\"url\": \"https://www.bcci.tv/video/5562707/india-vs-pakistan--icc-mens-t20-world-cup--match-highlights\", \"content\": \"India vs Pakistan | ICC Men's T20 World Cup 2024 | Match Highlights. 10 Jun, 2024 06:47 mins 142.5 k. Visit BCCI the official bcci.tv website for minute-to-minute LIVE updates.\"}, {\"url\": \"https://www.financialexpress.com/sports/who-won-yesterday-india-vs-afghanistan-t20-world-cup-2024-match-key-highlights-of-bridgetown-faceoff/3530579/\", \"content\": \"Indian supporters cheer for their team during the ICC Men's T20 World Cup cricket match between Afghanistan and India at Kensington Oval in Bridgetown, Barbados, Thursday, June 20, 2024. AP/PTI ...\"}]}\n",
      "Thought: The search results indicate that India won their last T20 World Cup match against Pakistan by 6 runs. \n",
      "\n",
      "Answer: India won their last T20 World Cup 2024 match against Pakistan by 6 runs. [source: https://sports.ndtv.com/t20-world-cup-2024/ind-vs-pak-live-cricket-score-t20-world-cup-2024-match-19th-india-vs-pakistan-live-scorecard-5851956]\n"
     ]
    }
   ],
   "source": [
    "question = \"\"\"Who won the last T20 match involving India in the ongoing 2024 world cup, by what margin\"\"\"\n",
    "query(question)"
   ]
  },
  {
   "cell_type": "code",
   "execution_count": null,
   "id": "e7f9b5a0-318c-4167-8b83-5fde218de4eb",
   "metadata": {},
   "outputs": [],
   "source": []
  }
 ],
 "metadata": {
  "kernelspec": {
   "display_name": "Python 3 (ipykernel)",
   "language": "python",
   "name": "python3"
  },
  "language_info": {
   "codemirror_mode": {
    "name": "ipython",
    "version": 3
   },
   "file_extension": ".py",
   "mimetype": "text/x-python",
   "name": "python",
   "nbconvert_exporter": "python",
   "pygments_lexer": "ipython3",
   "version": "3.11.6"
  }
 },
 "nbformat": 4,
 "nbformat_minor": 5
}
